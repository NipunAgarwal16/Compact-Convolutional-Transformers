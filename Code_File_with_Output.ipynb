{
  "nbformat": 4,
  "nbformat_minor": 0,
  "metadata": {
    "colab": {
      "name": "Code File with Output",
      "provenance": [],
      "collapsed_sections": [],
      "authorship_tag": "ABX9TyP2Wd6BerC/VNWLc1BjKcQH"
    },
    "kernelspec": {
      "name": "python3",
      "display_name": "Python 3"
    },
    "language_info": {
      "name": "python"
    }
  },
  "cells": [
    {
      "cell_type": "markdown",
      "source": [
        "## **Setup**"
      ],
      "metadata": {
        "id": "aoXw71JxriZp"
      }
    },
    {
      "cell_type": "code",
      "source": [
        "from tensorflow.keras import layers\n",
        "from tensorflow import keras\n",
        "\n",
        "import matplotlib.pyplot as plt\n",
        "import tensorflow_addons as tfa\n",
        "import tensorflow as tf\n",
        "import numpy as np"
      ],
      "metadata": {
        "id": "iu4y_9l-rk_3"
      },
      "execution_count": 2,
      "outputs": []
    },
    {
      "cell_type": "markdown",
      "source": [
        "## **Defining Hyperparameters and constants**"
      ],
      "metadata": {
        "id": "ziyWLhrorn_h"
      }
    },
    {
      "cell_type": "code",
      "source": [
        "positional_emb = True\n",
        "conv_layers = 2\n",
        "projection_dim = 128\n",
        "\n",
        "num_heads = 2\n",
        "transformer_units = [\n",
        "    projection_dim,\n",
        "    projection_dim,\n",
        "]\n",
        "transformer_layers = 2\n",
        "stochastic_depth_rate = 0.1\n",
        "\n",
        "learning_rate = 0.001\n",
        "weight_decay = 0.0001\n",
        "batch_size = 128\n",
        "num_epochs = 30\n",
        "image_size = 32"
      ],
      "metadata": {
        "id": "LRCwjF61rqBp"
      },
      "execution_count": 3,
      "outputs": []
    },
    {
      "cell_type": "markdown",
      "source": [
        "## **Loading CIFAR-10 dataset**"
      ],
      "metadata": {
        "id": "xIjibeYlrsi6"
      }
    },
    {
      "cell_type": "code",
      "source": [
        "num_classes = 10\n",
        "input_shape = (32, 32, 3)\n",
        "\n",
        "(x_train, y_train), (x_test, y_test) = keras.datasets.cifar10.load_data()\n",
        "\n",
        "y_train = keras.utils.to_categorical(y_train, num_classes)\n",
        "y_test = keras.utils.to_categorical(y_test, num_classes)\n",
        "\n",
        "print(f\"x_train shape: {x_train.shape} - y_train shape: {y_train.shape}\")\n",
        "print(f\"x_test shape: {x_test.shape} - y_test shape: {y_test.shape}\")"
      ],
      "metadata": {
        "colab": {
          "base_uri": "https://localhost:8080/"
        },
        "id": "han31iG2rvHf",
        "outputId": "df899b1b-5341-4859-d478-59f38454129f"
      },
      "execution_count": 4,
      "outputs": [
        {
          "output_type": "stream",
          "name": "stdout",
          "text": [
            "Downloading data from https://www.cs.toronto.edu/~kriz/cifar-10-python.tar.gz\n",
            "170500096/170498071 [==============================] - 4s 0us/step\n",
            "170508288/170498071 [==============================] - 4s 0us/step\n",
            "x_train shape: (50000, 32, 32, 3) - y_train shape: (50000, 10)\n",
            "x_test shape: (10000, 32, 32, 3) - y_test shape: (10000, 10)\n"
          ]
        }
      ]
    },
    {
      "cell_type": "markdown",
      "source": [
        "## **CCT tokenizer**"
      ],
      "metadata": {
        "id": "zVN2U7Bar5S_"
      }
    },
    {
      "cell_type": "code",
      "source": [
        "class CCTTokenizer(layers.Layer):\n",
        "    def __init__(\n",
        "        self,\n",
        "        kernel_size=3,\n",
        "        stride=1,\n",
        "        padding=1,\n",
        "        pooling_kernel_size=3,\n",
        "        pooling_stride=2,\n",
        "        num_conv_layers=conv_layers,\n",
        "        num_output_channels=[64, 128],\n",
        "        positional_emb=positional_emb,\n",
        "        **kwargs,\n",
        "    ):\n",
        "        super(CCTTokenizer, self).__init__(**kwargs)\n",
        "\n",
        "        # This is our tokenizer.\n",
        "        self.conv_model = keras.Sequential()\n",
        "        for i in range(num_conv_layers):\n",
        "            self.conv_model.add(\n",
        "                layers.Conv2D(\n",
        "                    num_output_channels[i],\n",
        "                    kernel_size,\n",
        "                    stride,\n",
        "                    padding=\"valid\",\n",
        "                    use_bias=False,\n",
        "                    activation=\"relu\",\n",
        "                    kernel_initializer=\"he_normal\",\n",
        "                )\n",
        "            )\n",
        "            self.conv_model.add(layers.ZeroPadding2D(padding))\n",
        "            self.conv_model.add(\n",
        "                layers.MaxPool2D(pooling_kernel_size, pooling_stride, \"same\")\n",
        "            )\n",
        "\n",
        "        self.positional_emb = positional_emb\n",
        "\n",
        "    def call(self, images):\n",
        "        outputs = self.conv_model(images)\n",
        "        # After passing the images through our mini-network the spatial dimensions\n",
        "        # are flattened to form sequences.\n",
        "        reshaped = tf.reshape(\n",
        "            outputs,\n",
        "            (-1, tf.shape(outputs)[1] * tf.shape(outputs)[2], tf.shape(outputs)[-1]),\n",
        "        )\n",
        "        return reshaped\n",
        "\n",
        "    def positional_embedding(self, image_size):\n",
        "        # Positional embeddings are optional in CCT. Here, we calculate\n",
        "        # the number of sequences and initialize an `Embedding` layer to\n",
        "        # compute the positional embeddings later.\n",
        "        if self.positional_emb:\n",
        "            dummy_inputs = tf.ones((1, image_size, image_size, 3))\n",
        "            dummy_outputs = self.call(dummy_inputs)\n",
        "            sequence_length = tf.shape(dummy_outputs)[1]\n",
        "            projection_dim = tf.shape(dummy_outputs)[-1]\n",
        "\n",
        "            embed_layer = layers.Embedding(\n",
        "                input_dim=sequence_length, output_dim=projection_dim\n",
        "            )\n",
        "            return embed_layer, sequence_length\n",
        "        else:\n",
        "            return None"
      ],
      "metadata": {
        "id": "8QgHXTp4r6Sv"
      },
      "execution_count": 5,
      "outputs": []
    },
    {
      "cell_type": "markdown",
      "source": [
        "## **Stochastic depth for regularization**"
      ],
      "metadata": {
        "id": "F2hV6cgdsAvJ"
      }
    },
    {
      "cell_type": "code",
      "source": [
        "# Referred from: github.com:rwightman/pytorch-image-models.\n",
        "class StochasticDepth(layers.Layer):\n",
        "    def __init__(self, drop_prop, **kwargs):\n",
        "        super(StochasticDepth, self).__init__(**kwargs)\n",
        "        self.drop_prob = drop_prop\n",
        "\n",
        "    def call(self, x, training=None):\n",
        "        if training:\n",
        "            keep_prob = 1 - self.drop_prob\n",
        "            shape = (tf.shape(x)[0],) + (1,) * (len(tf.shape(x)) - 1)\n",
        "            random_tensor = keep_prob + tf.random.uniform(shape, 0, 1)\n",
        "            random_tensor = tf.floor(random_tensor)\n",
        "            return (x / keep_prob) * random_tensor\n",
        "        return x"
      ],
      "metadata": {
        "id": "OcBOpU87sBhb"
      },
      "execution_count": 6,
      "outputs": []
    },
    {
      "cell_type": "markdown",
      "source": [
        "## **MLP for the Transformers encoder**"
      ],
      "metadata": {
        "id": "TE7Bsl4PsELq"
      }
    },
    {
      "cell_type": "code",
      "source": [
        "def mlp(x, hidden_units, dropout_rate):\n",
        "    for units in hidden_units:\n",
        "        x = layers.Dense(units, activation=tf.nn.gelu)(x)\n",
        "        x = layers.Dropout(dropout_rate)(x)\n",
        "    return x"
      ],
      "metadata": {
        "id": "tmbIVqEjsFTh"
      },
      "execution_count": 7,
      "outputs": []
    },
    {
      "cell_type": "markdown",
      "source": [
        "## **Data augmentation**"
      ],
      "metadata": {
        "id": "3_DJm8GSsHkm"
      }
    },
    {
      "cell_type": "code",
      "source": [
        "# Note the rescaling layer. These layers have pre-defined inference behavior.\n",
        "data_augmentation = keras.Sequential(\n",
        "    [\n",
        "        layers.Rescaling(scale=1.0 / 255),\n",
        "        layers.RandomCrop(image_size, image_size),\n",
        "        layers.RandomFlip(\"horizontal\"),\n",
        "    ],\n",
        "    name=\"data_augmentation\",\n",
        ")"
      ],
      "metadata": {
        "id": "Zbk3EvGcsITR"
      },
      "execution_count": 8,
      "outputs": []
    },
    {
      "cell_type": "markdown",
      "source": [
        "## **Final CCT Model**"
      ],
      "metadata": {
        "id": "dofQWUO_sKiY"
      }
    },
    {
      "cell_type": "code",
      "source": [
        "def create_cct_model(\n",
        "    image_size=image_size,\n",
        "    input_shape=input_shape,\n",
        "    num_heads=num_heads,\n",
        "    projection_dim=projection_dim,\n",
        "    transformer_units=transformer_units,\n",
        "):\n",
        "\n",
        "    inputs = layers.Input(input_shape)\n",
        "\n",
        "    # Augment data.\n",
        "    augmented = data_augmentation(inputs)\n",
        "\n",
        "    # Encode patches.\n",
        "    cct_tokenizer = CCTTokenizer()\n",
        "    encoded_patches = cct_tokenizer(augmented)\n",
        "\n",
        "    # Apply positional embedding.\n",
        "    if positional_emb:\n",
        "        pos_embed, seq_length = cct_tokenizer.positional_embedding(image_size)\n",
        "        positions = tf.range(start=0, limit=seq_length, delta=1)\n",
        "        position_embeddings = pos_embed(positions)\n",
        "        encoded_patches += position_embeddings\n",
        "\n",
        "    # Calculate Stochastic Depth probabilities.\n",
        "    dpr = [x for x in np.linspace(0, stochastic_depth_rate, transformer_layers)]\n",
        "\n",
        "    # Create multiple layers of the Transformer block.\n",
        "    for i in range(transformer_layers):\n",
        "        # Layer normalization 1.\n",
        "        x1 = layers.LayerNormalization(epsilon=1e-5)(encoded_patches)\n",
        "\n",
        "        # Create a multi-head attention layer.\n",
        "        attention_output = layers.MultiHeadAttention(\n",
        "            num_heads=num_heads, key_dim=projection_dim, dropout=0.1\n",
        "        )(x1, x1)\n",
        "\n",
        "        # Skip connection 1.\n",
        "        attention_output = StochasticDepth(dpr[i])(attention_output)\n",
        "        x2 = layers.Add()([attention_output, encoded_patches])\n",
        "\n",
        "        # Layer normalization 2.\n",
        "        x3 = layers.LayerNormalization(epsilon=1e-5)(x2)\n",
        "\n",
        "        # MLP.\n",
        "        x3 = mlp(x3, hidden_units=transformer_units, dropout_rate=0.1)\n",
        "\n",
        "        # Skip connection 2.\n",
        "        x3 = StochasticDepth(dpr[i])(x3)\n",
        "        encoded_patches = layers.Add()([x3, x2])\n",
        "\n",
        "    # Apply sequence pooling.\n",
        "    representation = layers.LayerNormalization(epsilon=1e-5)(encoded_patches)\n",
        "    attention_weights = tf.nn.softmax(layers.Dense(1)(representation), axis=1)\n",
        "    weighted_representation = tf.matmul(\n",
        "        attention_weights, representation, transpose_a=True\n",
        "    )\n",
        "    weighted_representation = tf.squeeze(weighted_representation, -2)\n",
        "\n",
        "    # Classify outputs.\n",
        "    logits = layers.Dense(num_classes)(weighted_representation)\n",
        "    # Create the Keras model.\n",
        "    model = keras.Model(inputs=inputs, outputs=logits)\n",
        "    return model"
      ],
      "metadata": {
        "id": "nvJygmPasNUX"
      },
      "execution_count": 9,
      "outputs": []
    },
    {
      "cell_type": "markdown",
      "source": [
        "## **Model training and evaluation**"
      ],
      "metadata": {
        "id": "rHhzZkScsQvZ"
      }
    },
    {
      "cell_type": "code",
      "source": [
        "def run_experiment(model):\n",
        "    optimizer = tfa.optimizers.AdamW(learning_rate=0.001, weight_decay=0.0001)\n",
        "\n",
        "    model.compile(\n",
        "        optimizer=optimizer,\n",
        "        loss=keras.losses.CategoricalCrossentropy(\n",
        "            from_logits=True, label_smoothing=0.1\n",
        "        ),\n",
        "        metrics=[\n",
        "            keras.metrics.CategoricalAccuracy(name=\"accuracy\"),\n",
        "            keras.metrics.TopKCategoricalAccuracy(5, name=\"top-5-accuracy\"),\n",
        "        ],\n",
        "    )\n",
        "\n",
        "    checkpoint_filepath = \"/tmp/checkpoint\"\n",
        "    checkpoint_callback = keras.callbacks.ModelCheckpoint(\n",
        "        checkpoint_filepath,\n",
        "        monitor=\"val_accuracy\",\n",
        "        save_best_only=True,\n",
        "        save_weights_only=True,\n",
        "    )\n",
        "\n",
        "    history = model.fit(\n",
        "        x=x_train,\n",
        "        y=y_train,\n",
        "        batch_size=batch_size,\n",
        "        epochs=num_epochs,\n",
        "        validation_split=0.1,\n",
        "        callbacks=[checkpoint_callback],\n",
        "    )\n",
        "\n",
        "    model.load_weights(checkpoint_filepath)\n",
        "    _, accuracy, top_5_accuracy = model.evaluate(x_test, y_test)\n",
        "    print(f\"Test accuracy: {round(accuracy * 100, 2)}%\")\n",
        "    print(f\"Test top 5 accuracy: {round(top_5_accuracy * 100, 2)}%\")\n",
        "\n",
        "    return history\n",
        "\n",
        "\n",
        "cct_model = create_cct_model()\n",
        "history = run_experiment(cct_model)"
      ],
      "metadata": {
        "colab": {
          "base_uri": "https://localhost:8080/"
        },
        "id": "qvXpUP01sRcD",
        "outputId": "aaeeb323-244a-446b-cdbd-fc2d09af3716"
      },
      "execution_count": 10,
      "outputs": [
        {
          "output_type": "stream",
          "name": "stdout",
          "text": [
            "Epoch 1/30\n",
            "352/352 [==============================] - 365s 1s/step - loss: 1.9355 - accuracy: 0.3135 - top-5-accuracy: 0.8253 - val_loss: 1.6736 - val_accuracy: 0.4468 - val_top-5-accuracy: 0.9122\n",
            "Epoch 2/30\n",
            "352/352 [==============================] - 361s 1s/step - loss: 1.6059 - accuracy: 0.4832 - top-5-accuracy: 0.9273 - val_loss: 1.4963 - val_accuracy: 0.5218 - val_top-5-accuracy: 0.9500\n",
            "Epoch 3/30\n",
            "352/352 [==============================] - 357s 1s/step - loss: 1.4806 - accuracy: 0.5444 - top-5-accuracy: 0.9462 - val_loss: 1.4004 - val_accuracy: 0.5936 - val_top-5-accuracy: 0.9588\n",
            "Epoch 4/30\n",
            "352/352 [==============================] - 358s 1s/step - loss: 1.4023 - accuracy: 0.5844 - top-5-accuracy: 0.9553 - val_loss: 1.3547 - val_accuracy: 0.6108 - val_top-5-accuracy: 0.9584\n",
            "Epoch 5/30\n",
            "352/352 [==============================] - 354s 1s/step - loss: 1.3383 - accuracy: 0.6170 - top-5-accuracy: 0.9626 - val_loss: 1.3952 - val_accuracy: 0.5914 - val_top-5-accuracy: 0.9620\n",
            "Epoch 6/30\n",
            "352/352 [==============================] - 352s 999ms/step - loss: 1.2964 - accuracy: 0.6341 - top-5-accuracy: 0.9666 - val_loss: 1.3108 - val_accuracy: 0.6290 - val_top-5-accuracy: 0.9680\n",
            "Epoch 7/30\n",
            "352/352 [==============================] - 350s 995ms/step - loss: 1.2538 - accuracy: 0.6577 - top-5-accuracy: 0.9698 - val_loss: 1.2371 - val_accuracy: 0.6662 - val_top-5-accuracy: 0.9728\n",
            "Epoch 8/30\n",
            "352/352 [==============================] - 347s 985ms/step - loss: 1.2204 - accuracy: 0.6736 - top-5-accuracy: 0.9732 - val_loss: 1.2056 - val_accuracy: 0.6790 - val_top-5-accuracy: 0.9780\n",
            "Epoch 9/30\n",
            "352/352 [==============================] - 344s 977ms/step - loss: 1.1875 - accuracy: 0.6909 - top-5-accuracy: 0.9755 - val_loss: 1.2622 - val_accuracy: 0.6602 - val_top-5-accuracy: 0.9754\n",
            "Epoch 10/30\n",
            "352/352 [==============================] - 341s 969ms/step - loss: 1.1648 - accuracy: 0.7002 - top-5-accuracy: 0.9778 - val_loss: 1.1641 - val_accuracy: 0.7012 - val_top-5-accuracy: 0.9796\n",
            "Epoch 11/30\n",
            "352/352 [==============================] - 339s 964ms/step - loss: 1.1373 - accuracy: 0.7140 - top-5-accuracy: 0.9796 - val_loss: 1.1593 - val_accuracy: 0.7046 - val_top-5-accuracy: 0.9798\n",
            "Epoch 12/30\n",
            "352/352 [==============================] - 338s 960ms/step - loss: 1.1253 - accuracy: 0.7170 - top-5-accuracy: 0.9799 - val_loss: 1.1407 - val_accuracy: 0.7134 - val_top-5-accuracy: 0.9822\n",
            "Epoch 13/30\n",
            "352/352 [==============================] - 336s 955ms/step - loss: 1.0982 - accuracy: 0.7312 - top-5-accuracy: 0.9820 - val_loss: 1.1141 - val_accuracy: 0.7292 - val_top-5-accuracy: 0.9798\n",
            "Epoch 14/30\n",
            "352/352 [==============================] - 334s 948ms/step - loss: 1.0877 - accuracy: 0.7381 - top-5-accuracy: 0.9835 - val_loss: 1.1412 - val_accuracy: 0.7086 - val_top-5-accuracy: 0.9842\n",
            "Epoch 15/30\n",
            "352/352 [==============================] - 336s 955ms/step - loss: 1.0734 - accuracy: 0.7431 - top-5-accuracy: 0.9832 - val_loss: 1.0731 - val_accuracy: 0.7440 - val_top-5-accuracy: 0.9826\n",
            "Epoch 16/30\n",
            "352/352 [==============================] - 336s 955ms/step - loss: 1.0559 - accuracy: 0.7502 - top-5-accuracy: 0.9843 - val_loss: 1.0767 - val_accuracy: 0.7436 - val_top-5-accuracy: 0.9822\n",
            "Epoch 17/30\n",
            "352/352 [==============================] - 335s 950ms/step - loss: 1.0457 - accuracy: 0.7566 - top-5-accuracy: 0.9853 - val_loss: 1.0711 - val_accuracy: 0.7554 - val_top-5-accuracy: 0.9812\n",
            "Epoch 18/30\n",
            "352/352 [==============================] - 335s 953ms/step - loss: 1.0346 - accuracy: 0.7625 - top-5-accuracy: 0.9856 - val_loss: 1.0868 - val_accuracy: 0.7406 - val_top-5-accuracy: 0.9806\n",
            "Epoch 19/30\n",
            "352/352 [==============================] - 337s 959ms/step - loss: 1.0189 - accuracy: 0.7681 - top-5-accuracy: 0.9875 - val_loss: 1.0656 - val_accuracy: 0.7548 - val_top-5-accuracy: 0.9820\n",
            "Epoch 20/30\n",
            "352/352 [==============================] - 339s 963ms/step - loss: 1.0059 - accuracy: 0.7753 - top-5-accuracy: 0.9876 - val_loss: 1.0711 - val_accuracy: 0.7426 - val_top-5-accuracy: 0.9856\n",
            "Epoch 21/30\n",
            "352/352 [==============================] - 341s 969ms/step - loss: 1.0026 - accuracy: 0.7756 - top-5-accuracy: 0.9871 - val_loss: 1.0692 - val_accuracy: 0.7500 - val_top-5-accuracy: 0.9816\n",
            "Epoch 22/30\n",
            "352/352 [==============================] - 360s 1s/step - loss: 0.9936 - accuracy: 0.7804 - top-5-accuracy: 0.9871 - val_loss: 1.0441 - val_accuracy: 0.7598 - val_top-5-accuracy: 0.9808\n",
            "Epoch 23/30\n",
            "352/352 [==============================] - 355s 1s/step - loss: 0.9748 - accuracy: 0.7883 - top-5-accuracy: 0.9886 - val_loss: 1.0436 - val_accuracy: 0.7602 - val_top-5-accuracy: 0.9838\n",
            "Epoch 24/30\n",
            "352/352 [==============================] - 354s 1s/step - loss: 0.9752 - accuracy: 0.7898 - top-5-accuracy: 0.9888 - val_loss: 1.0342 - val_accuracy: 0.7630 - val_top-5-accuracy: 0.9846\n",
            "Epoch 25/30\n",
            "352/352 [==============================] - 350s 994ms/step - loss: 0.9695 - accuracy: 0.7918 - top-5-accuracy: 0.9893 - val_loss: 1.0355 - val_accuracy: 0.7712 - val_top-5-accuracy: 0.9846\n",
            "Epoch 26/30\n",
            "352/352 [==============================] - 346s 982ms/step - loss: 0.9617 - accuracy: 0.7953 - top-5-accuracy: 0.9891 - val_loss: 1.0159 - val_accuracy: 0.7788 - val_top-5-accuracy: 0.9862\n",
            "Epoch 27/30\n",
            "352/352 [==============================] - 340s 965ms/step - loss: 0.9497 - accuracy: 0.8027 - top-5-accuracy: 0.9903 - val_loss: 1.0230 - val_accuracy: 0.7760 - val_top-5-accuracy: 0.9866\n",
            "Epoch 28/30\n",
            "352/352 [==============================] - 339s 964ms/step - loss: 0.9452 - accuracy: 0.8021 - top-5-accuracy: 0.9904 - val_loss: 1.0228 - val_accuracy: 0.7688 - val_top-5-accuracy: 0.9880\n",
            "Epoch 29/30\n",
            "352/352 [==============================] - 344s 978ms/step - loss: 0.9455 - accuracy: 0.8006 - top-5-accuracy: 0.9901 - val_loss: 1.0344 - val_accuracy: 0.7682 - val_top-5-accuracy: 0.9872\n",
            "Epoch 30/30\n",
            "352/352 [==============================] - 351s 997ms/step - loss: 0.9387 - accuracy: 0.8063 - top-5-accuracy: 0.9906 - val_loss: 1.0347 - val_accuracy: 0.7734 - val_top-5-accuracy: 0.9838\n",
            "313/313 [==============================] - 23s 73ms/step - loss: 1.0378 - accuracy: 0.7698 - top-5-accuracy: 0.9840\n",
            "Test accuracy: 76.98%\n",
            "Test top 5 accuracy: 98.4%\n"
          ]
        }
      ]
    },
    {
      "cell_type": "markdown",
      "source": [
        "**Visualizing the training progress of the model**"
      ],
      "metadata": {
        "id": "1NKBdhabsZxQ"
      }
    },
    {
      "cell_type": "code",
      "source": [
        "plt.plot(history.history[\"loss\"], label=\"train_loss\")\n",
        "plt.plot(history.history[\"val_loss\"], label=\"val_loss\")\n",
        "plt.xlabel(\"Epochs\")\n",
        "plt.ylabel(\"Loss\")\n",
        "plt.title(\"Train and Validation Losses Over Epochs\", fontsize=14)\n",
        "plt.legend()\n",
        "plt.grid()\n",
        "plt.show()"
      ],
      "metadata": {
        "colab": {
          "base_uri": "https://localhost:8080/",
          "height": 296
        },
        "id": "KSyvDc9zscYJ",
        "outputId": "7c67b061-2828-4c37-a462-5348b142cd5d"
      },
      "execution_count": 11,
      "outputs": [
        {
          "output_type": "display_data",
          "data": {
            "image/png": "[encoded data removed]",
            "text/plain": [
              "<Figure size 432x288 with 1 Axes>"
            ]
          },
          "metadata": {
            "needs_background": "light"
          }
        }
      ]
    }
  ]
}